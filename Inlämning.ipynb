{
 "cells": [
  {
   "cell_type": "code",
   "execution_count": 49,
   "metadata": {},
   "outputs": [],
   "source": [
    "import pandas as pd\n",
    "import numpy as np\n",
    "import matplotlib.pyplot as plt\n",
    "import scipy.stats as scs\n",
    "import seaborn as sns\n",
    "from scipy.stats import t"
   ]
  },
  {
   "attachments": {},
   "cell_type": "markdown",
   "metadata": {},
   "source": [
    "### Idéer inför inlämning\n",
    "- Correlation between fuel efficiency and other variables such as weight, horsepower and acceleration\n",
    "- How fuel efficiency has changed over time\n",
    "- numbers of cylinders and their fuel efficiancy\n",
    "- mpg compared between cylinder\n",
    "- predict the mpg based on other characteristics\n",
    "- Identifying patterns and trends in the data that can be used to improve fuel efficiency in the future.\n",
    "- Investigating any relationship between the year of car and mpg"
   ]
  },
  {
   "cell_type": "code",
   "execution_count": 3,
   "metadata": {},
   "outputs": [
    {
     "data": {
      "text/html": [
       "<div>\n",
       "<style scoped>\n",
       "    .dataframe tbody tr th:only-of-type {\n",
       "        vertical-align: middle;\n",
       "    }\n",
       "\n",
       "    .dataframe tbody tr th {\n",
       "        vertical-align: top;\n",
       "    }\n",
       "\n",
       "    .dataframe thead th {\n",
       "        text-align: right;\n",
       "    }\n",
       "</style>\n",
       "<table border=\"1\" class=\"dataframe\">\n",
       "  <thead>\n",
       "    <tr style=\"text-align: right;\">\n",
       "      <th></th>\n",
       "      <th>mpg</th>\n",
       "      <th>cylinders</th>\n",
       "      <th>displacement</th>\n",
       "      <th>horsepower</th>\n",
       "      <th>weight</th>\n",
       "      <th>acceleration</th>\n",
       "      <th>model_year</th>\n",
       "      <th>origin</th>\n",
       "      <th>name</th>\n",
       "    </tr>\n",
       "  </thead>\n",
       "  <tbody>\n",
       "    <tr>\n",
       "      <th>0</th>\n",
       "      <td>18.0</td>\n",
       "      <td>8</td>\n",
       "      <td>307.0</td>\n",
       "      <td>130.0</td>\n",
       "      <td>3504</td>\n",
       "      <td>12.0</td>\n",
       "      <td>70</td>\n",
       "      <td>usa</td>\n",
       "      <td>chevrolet chevelle malibu</td>\n",
       "    </tr>\n",
       "    <tr>\n",
       "      <th>1</th>\n",
       "      <td>15.0</td>\n",
       "      <td>8</td>\n",
       "      <td>350.0</td>\n",
       "      <td>165.0</td>\n",
       "      <td>3693</td>\n",
       "      <td>11.5</td>\n",
       "      <td>70</td>\n",
       "      <td>usa</td>\n",
       "      <td>buick skylark 320</td>\n",
       "    </tr>\n",
       "    <tr>\n",
       "      <th>2</th>\n",
       "      <td>18.0</td>\n",
       "      <td>8</td>\n",
       "      <td>318.0</td>\n",
       "      <td>150.0</td>\n",
       "      <td>3436</td>\n",
       "      <td>11.0</td>\n",
       "      <td>70</td>\n",
       "      <td>usa</td>\n",
       "      <td>plymouth satellite</td>\n",
       "    </tr>\n",
       "    <tr>\n",
       "      <th>3</th>\n",
       "      <td>16.0</td>\n",
       "      <td>8</td>\n",
       "      <td>304.0</td>\n",
       "      <td>150.0</td>\n",
       "      <td>3433</td>\n",
       "      <td>12.0</td>\n",
       "      <td>70</td>\n",
       "      <td>usa</td>\n",
       "      <td>amc rebel sst</td>\n",
       "    </tr>\n",
       "    <tr>\n",
       "      <th>4</th>\n",
       "      <td>17.0</td>\n",
       "      <td>8</td>\n",
       "      <td>302.0</td>\n",
       "      <td>140.0</td>\n",
       "      <td>3449</td>\n",
       "      <td>10.5</td>\n",
       "      <td>70</td>\n",
       "      <td>usa</td>\n",
       "      <td>ford torino</td>\n",
       "    </tr>\n",
       "    <tr>\n",
       "      <th>...</th>\n",
       "      <td>...</td>\n",
       "      <td>...</td>\n",
       "      <td>...</td>\n",
       "      <td>...</td>\n",
       "      <td>...</td>\n",
       "      <td>...</td>\n",
       "      <td>...</td>\n",
       "      <td>...</td>\n",
       "      <td>...</td>\n",
       "    </tr>\n",
       "    <tr>\n",
       "      <th>393</th>\n",
       "      <td>27.0</td>\n",
       "      <td>4</td>\n",
       "      <td>140.0</td>\n",
       "      <td>86.0</td>\n",
       "      <td>2790</td>\n",
       "      <td>15.6</td>\n",
       "      <td>82</td>\n",
       "      <td>usa</td>\n",
       "      <td>ford mustang gl</td>\n",
       "    </tr>\n",
       "    <tr>\n",
       "      <th>394</th>\n",
       "      <td>44.0</td>\n",
       "      <td>4</td>\n",
       "      <td>97.0</td>\n",
       "      <td>52.0</td>\n",
       "      <td>2130</td>\n",
       "      <td>24.6</td>\n",
       "      <td>82</td>\n",
       "      <td>europe</td>\n",
       "      <td>vw pickup</td>\n",
       "    </tr>\n",
       "    <tr>\n",
       "      <th>395</th>\n",
       "      <td>32.0</td>\n",
       "      <td>4</td>\n",
       "      <td>135.0</td>\n",
       "      <td>84.0</td>\n",
       "      <td>2295</td>\n",
       "      <td>11.6</td>\n",
       "      <td>82</td>\n",
       "      <td>usa</td>\n",
       "      <td>dodge rampage</td>\n",
       "    </tr>\n",
       "    <tr>\n",
       "      <th>396</th>\n",
       "      <td>28.0</td>\n",
       "      <td>4</td>\n",
       "      <td>120.0</td>\n",
       "      <td>79.0</td>\n",
       "      <td>2625</td>\n",
       "      <td>18.6</td>\n",
       "      <td>82</td>\n",
       "      <td>usa</td>\n",
       "      <td>ford ranger</td>\n",
       "    </tr>\n",
       "    <tr>\n",
       "      <th>397</th>\n",
       "      <td>31.0</td>\n",
       "      <td>4</td>\n",
       "      <td>119.0</td>\n",
       "      <td>82.0</td>\n",
       "      <td>2720</td>\n",
       "      <td>19.4</td>\n",
       "      <td>82</td>\n",
       "      <td>usa</td>\n",
       "      <td>chevy s-10</td>\n",
       "    </tr>\n",
       "  </tbody>\n",
       "</table>\n",
       "<p>398 rows × 9 columns</p>\n",
       "</div>"
      ],
      "text/plain": [
       "      mpg  cylinders  displacement  horsepower  weight  acceleration  \\\n",
       "0    18.0          8         307.0       130.0    3504          12.0   \n",
       "1    15.0          8         350.0       165.0    3693          11.5   \n",
       "2    18.0          8         318.0       150.0    3436          11.0   \n",
       "3    16.0          8         304.0       150.0    3433          12.0   \n",
       "4    17.0          8         302.0       140.0    3449          10.5   \n",
       "..    ...        ...           ...         ...     ...           ...   \n",
       "393  27.0          4         140.0        86.0    2790          15.6   \n",
       "394  44.0          4          97.0        52.0    2130          24.6   \n",
       "395  32.0          4         135.0        84.0    2295          11.6   \n",
       "396  28.0          4         120.0        79.0    2625          18.6   \n",
       "397  31.0          4         119.0        82.0    2720          19.4   \n",
       "\n",
       "     model_year  origin                       name  \n",
       "0            70     usa  chevrolet chevelle malibu  \n",
       "1            70     usa          buick skylark 320  \n",
       "2            70     usa         plymouth satellite  \n",
       "3            70     usa              amc rebel sst  \n",
       "4            70     usa                ford torino  \n",
       "..          ...     ...                        ...  \n",
       "393          82     usa            ford mustang gl  \n",
       "394          82  europe                  vw pickup  \n",
       "395          82     usa              dodge rampage  \n",
       "396          82     usa                ford ranger  \n",
       "397          82     usa                 chevy s-10  \n",
       "\n",
       "[398 rows x 9 columns]"
      ]
     },
     "execution_count": 3,
     "metadata": {},
     "output_type": "execute_result"
    }
   ],
   "source": [
    "df = pd.read_csv(\"../Statistik/Files/cars.csv\")\n",
    "df"
   ]
  },
  {
   "cell_type": "code",
   "execution_count": 35,
   "metadata": {},
   "outputs": [],
   "source": [
    "unique_cylinders = df[\"cylinders\"].unique() # Kollar hur många olika cylindertyper som används i datasetet\n",
    "unique_cylinders\n",
    "# Skapar variabler för alla olika cylindertyper\n",
    "# Inkluderar antalet datapunkter som kommentar jämte variabeln\n",
    "df3 = df[df[\"cylinders\"] == 3] # 4\n",
    "df5 = df[df[\"cylinders\"] == 5] # 3\n",
    "\n",
    "# Jag använder mig endast utav 6 & 8 eftersom det är för små mängder utav 3 & 5\n",
    "df6 = df[df[\"cylinders\"] == 6] # 84\n",
    "df8 = df[df[\"cylinders\"] == 8] # 103"
   ]
  },
  {
   "cell_type": "code",
   "execution_count": 43,
   "metadata": {},
   "outputs": [
    {
     "name": "stdout",
     "output_type": "stream",
     "text": [
      "Antal olika unika cylindertyper: [8 4 6 3 5]\n",
      "Antalet datapunkter för 3-cylindriga motorer: 4\n",
      "Antalet datapunkter för 5-cylindriga motorer: 3\n",
      "Antalet datapunkter för 6-cylindriga motorer: 84\n",
      "Antalet datapunkter för 8-cylindriga motorer: 103\n"
     ]
    }
   ],
   "source": [
    "print(f\"Antal olika unika cylindertyper: {unique_cylinders}\")\n",
    "print(f\"Antalet datapunkter för 3-cylindriga motorer: {df3.shape[0]}\") # Printar antalet rader för df\n",
    "print(f\"Antalet datapunkter för 5-cylindriga motorer: {df5.shape[0]}\")\n",
    "print(f\"Antalet datapunkter för 6-cylindriga motorer: {df6.shape[0]}\")\n",
    "print(f\"Antalet datapunkter för 8-cylindriga motorer: {df8.shape[0]}\")"
   ]
  },
  {
   "attachments": {},
   "cell_type": "markdown",
   "metadata": {},
   "source": [
    "### Konfidensintervall för medelvärdet av bilarnas vikter (både 6 och 8 cylinder)"
   ]
  },
  {
   "cell_type": "code",
   "execution_count": 81,
   "metadata": {},
   "outputs": [],
   "source": [
    "# Kollar medelvärdet, medianen och standardavvikelsen på båda cylindertyper\n",
    "# Beräknar även n-värdet för stickprov (för konfidensintervall)\n",
    "df6_mean_weight = df6[\"weight\"].mean() # 3198 mean / 3201 median\n",
    "df8_mean_weight = df8[\"weight\"].mean() # 4114 mean / 4140 median\n",
    "\n",
    "df6_std = df6[\"weight\"].std() # 332\n",
    "df8_std = df8[\"weight\"].std() # 448\n",
    "\n",
    "df6_n = len(df6) # 84\n",
    "df8_n = len(df8) # 103\n",
    "\n",
    "KI_alpha = 0.05 # Använder 95% KI så att intervallerna blir alldeles för stora\n",
    "t_crit_df6 = t.ppf(1-KI_alpha/2, df6_n-1)\n",
    "t_crit_df8 = t.ppf(1-KI_alpha/2, df8_n-1)\n",
    "\n",
    "sem_df6 = df6_std/np.sqrt(df6_n)\n",
    "sem_df8 = df8_std/np.sqrt(df8_n)\n",
    "\n",
    "lower_df6 = df6_mean_weight - t_crit_df6 * sem_df6\n",
    "lower_df8 = df8_mean_weight - t_crit_df8 * sem_df8\n",
    "\n",
    "upper_df6 = df6_mean_weight + t_crit_df6 * sem_df6\n",
    "upper_df8 = df8_mean_weight + t_crit_df8 * sem_df8\n",
    "\n",
    "upper_df6 = str(round(upper_df6, 1))\n",
    "upper_df8 = str(round(upper_df8, 1))\n",
    "lower_df6 = str(round(lower_df6, 1))\n",
    "lower_df8 = str(round(lower_df8, 1)) # Avrundning till 1 decimal"
   ]
  },
  {
   "cell_type": "code",
   "execution_count": 82,
   "metadata": {},
   "outputs": [
    {
     "name": "stdout",
     "output_type": "stream",
     "text": [
      "Medelvikten för 6-cylindriga bilar med en 95% KI: 3126.1 ± 3270.3\n",
      "Medelvikten för 8-cylindriga bilar med en 95% KI: 4027.0 ± 4202.4\n"
     ]
    }
   ],
   "source": [
    "print(f\"Medelvikten för 6-cylindriga bilar med en 95% KI: {lower_df6} \\u00B1 {upper_df6}\")\n",
    "print(f\"Medelvikten för 8-cylindriga bilar med en 95% KI: {lower_df8} \\u00B1 {upper_df8}\")"
   ]
  },
  {
   "attachments": {},
   "cell_type": "markdown",
   "metadata": {},
   "source": [
    "### MPG"
   ]
  },
  {
   "cell_type": "code",
   "execution_count": 84,
   "metadata": {},
   "outputs": [],
   "source": [
    "df6_mean_mpg = df6[\"mpg\"].mean() # 20 mean / 19 median\n",
    "df8_mean_mpg = df8[\"mpg\"].mean() # 15 mean / 14 median\n",
    "df6_std_mpg = df6[\"mpg\"].std() # 3.81\n",
    "df8_std_mpg = df8[\"mpg\"].std() # 2.83\n",
    "\n",
    "\n",
    "lower_df6_mpg = df6_mean_mpg - t_crit_df6 * sem_df6\n",
    "lower_df8_mpg = df8_mean_weight - t_crit_df8 * sem_df8\n",
    "\n",
    "upper_df6_mpg = df6_mean_mpg + t_crit_df6 * sem_df6\n",
    "upper_df8_mpg = df8_mean_weight + t_crit_df8 * sem_df8\n",
    "\n",
    "upper_df6_mpg = str(round(upper_df6_mpg, 1))\n",
    "upper_df8_mpg = str(round(upper_df8_mpg, 1))\n",
    "lower_df6_mpg = str(round(lower_df6_mpg, 1))\n",
    "lower_df8_mpg = str(round(lower_df8_mpg, 1))\n",
    "\n",
    "sem_df6_mpg = scs.sem(df6[\"mpg\"])\n",
    "sem_df8_mpg = scs.sem(df8[\"mpg\"])"
   ]
  },
  {
   "attachments": {},
   "cell_type": "markdown",
   "metadata": {},
   "source": [
    "### Konfidensintervall för mpg på både 6- och 8-cylindriga motorer."
   ]
  },
  {
   "cell_type": "code",
   "execution_count": 88,
   "metadata": {},
   "outputs": [
    {
     "name": "stdout",
     "output_type": "stream",
     "text": [
      "Medelvärdet på mpg för 6-cylindriga bilar med en 95% KI: 19.2-20.8\n",
      "Medelvärdet på mpg för 8-cylindriga bilar med en 95% KI: 14.1-15.8\n"
     ]
    }
   ],
   "source": [
    "lower_df6_mpg, upper_df6_mpg = t.interval(\n",
    "    confidence=1 - KI_alpha, df=df6_n - 1, loc=df6_mean_mpg, scale=sem_df6_mpg\n",
    ")\n",
    "print(\n",
    "    f\"Medelvärdet på mpg för 6-cylindriga bilar med en 95% KI: {str(round(lower_df6_mpg, 1))}-{str(round(upper_df6_mpg, 1))}\"\n",
    ")\n",
    "\n",
    "lower_df8_mpg, upper_df8_mpg = t.interval(\n",
    "    confidence=1 - KI_alpha, df=df8_n - 1, loc=df8_mean_mpg, scale=sem_df6_mpg\n",
    ")\n",
    "print(\n",
    "    f\"Medelvärdet på mpg för 8-cylindriga bilar med en 95% KI: {str(round(lower_df8_mpg, 1))}-{str(round(upper_df8_mpg, 1))}\"\n",
    ")\n"
   ]
  },
  {
   "attachments": {},
   "cell_type": "markdown",
   "metadata": {},
   "source": [
    "# Proportioner för både mpg och viktskillnad"
   ]
  },
  {
   "cell_type": "code",
   "execution_count": 130,
   "metadata": {},
   "outputs": [
    {
     "name": "stdout",
     "output_type": "stream",
     "text": [
      "Skillnad proportionerligt i mpg (8-cylindrig lägre): 0.749\n",
      "Skillnad proportionerligt i vikt (6-cylindrig lägre): 0.777\n"
     ]
    }
   ],
   "source": [
    "\n",
    "average_df6_mpg = (lower_df6_mpg + upper_df6_mpg) / 2\n",
    "average_df8_mpg = (lower_df8_mpg + upper_df8_mpg) / 2\n",
    " \n",
    "mpg_prop = average_df8_mpg/average_df6_mpg\n",
    "mpg_prop = float(round(mpg_prop, 3))\n",
    "\n",
    "average_df6_weight = (float(lower_df6) + float(upper_df6)) / 2\n",
    "average_df8_weight = (float(lower_df8) + float(upper_df8)) / 2\n",
    "\n",
    "weight_prop = average_df6_weight/average_df8_weight\n",
    "weight_prop = float(round(weight_prop, 3))\n",
    "\n",
    "print(f\"Skillnad proportionerligt i mpg (8-cylindrig lägre): {mpg_prop}\")\n",
    "print(f\"Skillnad proportionerligt i vikt (6-cylindrig lägre): {weight_prop}\")"
   ]
  }
 ],
 "metadata": {
  "kernelspec": {
   "display_name": "Python 3",
   "language": "python",
   "name": "python3"
  },
  "language_info": {
   "codemirror_mode": {
    "name": "ipython",
    "version": 3
   },
   "file_extension": ".py",
   "mimetype": "text/x-python",
   "name": "python",
   "nbconvert_exporter": "python",
   "pygments_lexer": "ipython3",
   "version": "3.9.13"
  },
  "orig_nbformat": 4,
  "vscode": {
   "interpreter": {
    "hash": "167998f8c3a05581fbd9ccdd36f349f3264dd01bf05c9e030bf6452b394f7000"
   }
  }
 },
 "nbformat": 4,
 "nbformat_minor": 2
}
